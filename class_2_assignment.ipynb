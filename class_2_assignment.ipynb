{
  "nbformat": 4,
  "nbformat_minor": 0,
  "metadata": {
    "colab": {
      "name": "class 2 assignment.ipynb",
      "provenance": []
    },
    "kernelspec": {
      "name": "python3",
      "display_name": "Python 3"
    },
    "language_info": {
      "name": "python"
    }
  },
  "cells": [
    {
      "cell_type": "code",
      "execution_count": 1,
      "metadata": {
        "colab": {
          "base_uri": "https://localhost:8080/",
          "height": 72
        },
        "id": "wuz7daQjK-ZL",
        "outputId": "86a2c0b7-29ae-4044-cb3e-0323ec008e69"
      },
      "outputs": [
        {
          "output_type": "execute_result",
          "data": {
            "text/plain": [
              "'#Questions \\n\\nl = [3,4,5,6,7 , [23,456,67,8,78,78] , [345,56,87,8,98,9] , (234,6657,6) , {\"key1\" :\"sudh\" , 234:[23,45,656]}]\\n1 . Try to reverse a list \\n2. try to access 234 out of this list \\n3 . try to access 456 \\n4 . Try to extract only a list collection form list l \\n5 . Try to extract \"sudh\"\\n6 . Try to list all the key in dict element avaible in list \\n7 . Try to extract all the value element form dict available in list '"
            ],
            "application/vnd.google.colaboratory.intrinsic+json": {
              "type": "string"
            }
          },
          "metadata": {},
          "execution_count": 1
        }
      ],
      "source": [
        "\"\"\"#Questions \n",
        "\n",
        "l = [3,4,5,6,7 , [23,456,67,8,78,78] , [345,56,87,8,98,9] , (234,6657,6) , {\"key1\" :\"sudh\" , 234:[23,45,656]}]\n",
        "1 . Try to reverse a list \n",
        "2. try to access 234 out of this list \n",
        "3 . try to access 456 \n",
        "4 . Try to extract only a list collection form list l \n",
        "5 . Try to extract \"sudh\"\n",
        "6 . Try to list all the key in dict element avaible in list \n",
        "7 . Try to extract all the value element form dict available in list \"\"\""
      ]
    },
    {
      "cell_type": "code",
      "source": [
        ""
      ],
      "metadata": {
        "id": "lSKObyJuLR28"
      },
      "execution_count": null,
      "outputs": []
    },
    {
      "cell_type": "code",
      "source": [
        "l = [3,4,5,6,7 , [23,456,67,8,78,78] , [345,56,87,8,98,9] , (234,6657,6) , {\"key1\" :\"sudh\" , 234:[23,45,656]}]"
      ],
      "metadata": {
        "id": "NeIQVuCmLEXU"
      },
      "execution_count": 2,
      "outputs": []
    },
    {
      "cell_type": "code",
      "source": [
        "#1 . Try to reverse a list \n",
        "\n",
        "l[::-1]"
      ],
      "metadata": {
        "colab": {
          "base_uri": "https://localhost:8080/"
        },
        "id": "3Pkq85RLLHAF",
        "outputId": "37e0cf1a-77a8-42db-ef20-437ca1784c72"
      },
      "execution_count": 3,
      "outputs": [
        {
          "output_type": "execute_result",
          "data": {
            "text/plain": [
              "[{234: [23, 45, 656], 'key1': 'sudh'},\n",
              " (234, 6657, 6),\n",
              " [345, 56, 87, 8, 98, 9],\n",
              " [23, 456, 67, 8, 78, 78],\n",
              " 7,\n",
              " 6,\n",
              " 5,\n",
              " 4,\n",
              " 3]"
            ]
          },
          "metadata": {},
          "execution_count": 3
        }
      ]
    },
    {
      "cell_type": "code",
      "source": [
        "#2. try to access 234 out of this list \n",
        "\n",
        "l[7][0]"
      ],
      "metadata": {
        "colab": {
          "base_uri": "https://localhost:8080/"
        },
        "id": "Ftcpm11ZLYRY",
        "outputId": "8dca0948-b1af-47ed-a40a-36281f15ffb2"
      },
      "execution_count": 5,
      "outputs": [
        {
          "output_type": "execute_result",
          "data": {
            "text/plain": [
              "234"
            ]
          },
          "metadata": {},
          "execution_count": 5
        }
      ]
    },
    {
      "cell_type": "code",
      "source": [
        "#3 . try to access 456 \n",
        "\n",
        "l[5][1]"
      ],
      "metadata": {
        "colab": {
          "base_uri": "https://localhost:8080/"
        },
        "id": "WS9aipdGLz6i",
        "outputId": "aad52d06-4933-45ed-a3d4-1cb6fff67960"
      },
      "execution_count": 6,
      "outputs": [
        {
          "output_type": "execute_result",
          "data": {
            "text/plain": [
              "456"
            ]
          },
          "metadata": {},
          "execution_count": 6
        }
      ]
    },
    {
      "cell_type": "code",
      "source": [
        "#4 . Try to extract only a list collection form list l \n",
        "\n",
        "l[5]"
      ],
      "metadata": {
        "colab": {
          "base_uri": "https://localhost:8080/"
        },
        "id": "BMxo9x91MFPu",
        "outputId": "e376e53f-b7bd-4f55-cabb-dcb123777983"
      },
      "execution_count": 8,
      "outputs": [
        {
          "output_type": "execute_result",
          "data": {
            "text/plain": [
              "[23, 456, 67, 8, 78, 78]"
            ]
          },
          "metadata": {},
          "execution_count": 8
        }
      ]
    },
    {
      "cell_type": "code",
      "source": [
        "#5 . Try to extract \"sudh\"\n",
        "\n",
        "l[-1][\"key1\"]"
      ],
      "metadata": {
        "colab": {
          "base_uri": "https://localhost:8080/",
          "height": 36
        },
        "id": "oaxLtsU9MKuF",
        "outputId": "ab73dc66-9853-4761-9e64-cdd3628ee5c7"
      },
      "execution_count": 9,
      "outputs": [
        {
          "output_type": "execute_result",
          "data": {
            "text/plain": [
              "'sudh'"
            ],
            "application/vnd.google.colaboratory.intrinsic+json": {
              "type": "string"
            }
          },
          "metadata": {},
          "execution_count": 9
        }
      ]
    },
    {
      "cell_type": "code",
      "source": [
        "#6 . Try to list all the key in dict element avaible in list \n",
        "\n",
        "key = list(l[-1].keys())\n",
        "key"
      ],
      "metadata": {
        "colab": {
          "base_uri": "https://localhost:8080/"
        },
        "id": "vHUSzuQnMhBE",
        "outputId": "346db1d3-c985-4a0d-87c1-59193b9e3f51"
      },
      "execution_count": 12,
      "outputs": [
        {
          "output_type": "execute_result",
          "data": {
            "text/plain": [
              "['key1', 234]"
            ]
          },
          "metadata": {},
          "execution_count": 12
        }
      ]
    },
    {
      "cell_type": "code",
      "source": [
        "#7. Try to extract all the value element form dict available in list \n",
        "\n",
        "value = list(l[-1].values())\n",
        "value"
      ],
      "metadata": {
        "colab": {
          "base_uri": "https://localhost:8080/"
        },
        "id": "bn6oaEL1MttG",
        "outputId": "298dba92-c2a7-44db-b50e-531d2aa15dbc"
      },
      "execution_count": 14,
      "outputs": [
        {
          "output_type": "execute_result",
          "data": {
            "text/plain": [
              "['sudh', [23, 45, 656]]"
            ]
          },
          "metadata": {},
          "execution_count": 14
        }
      ]
    },
    {
      "cell_type": "code",
      "source": [
        "#8. Try to extract all the items form dict available in list\n",
        "\n",
        "item = list(l[-1].items())\n",
        "item"
      ],
      "metadata": {
        "colab": {
          "base_uri": "https://localhost:8080/"
        },
        "id": "mQH2-bYBM4sM",
        "outputId": "b6e42fc0-a664-42dd-f728-21a4b7bed34e"
      },
      "execution_count": 16,
      "outputs": [
        {
          "output_type": "execute_result",
          "data": {
            "text/plain": [
              "[('key1', 'sudh'), (234, [23, 45, 656])]"
            ]
          },
          "metadata": {},
          "execution_count": 16
        }
      ]
    },
    {
      "cell_type": "code",
      "source": [
        ""
      ],
      "metadata": {
        "id": "at1ibM70NMNi"
      },
      "execution_count": null,
      "outputs": []
    }
  ]
}