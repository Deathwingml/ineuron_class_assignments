{
  "cells": [
    {
      "cell_type": "code",
      "execution_count": null,
      "id": "39fae000",
      "metadata": {
        "id": "39fae000"
      },
      "outputs": [],
      "source": [
        "l = [1,2,3,4,\"sudh\" ,\"kumar\" , 45.56]"
      ]
    },
    {
      "cell_type": "code",
      "execution_count": null,
      "id": "8efb4581",
      "metadata": {
        "id": "8efb4581",
        "outputId": "e3f78da4-3edf-4476-d7f7-b54dcedffebb"
      },
      "outputs": [
        {
          "name": "stdout",
          "output_type": "stream",
          "text": [
            "1\n",
            "2\n",
            "3\n",
            "4\n",
            "sudh\n",
            "kumar\n",
            "45.56\n"
          ]
        }
      ],
      "source": [
        "for i in l :\n",
        "    print(i)"
      ]
    },
    {
      "cell_type": "code",
      "execution_count": null,
      "id": "a3c4aaa1",
      "metadata": {
        "id": "a3c4aaa1"
      },
      "outputs": [],
      "source": [
        "for i in l :\n",
        "    pass"
      ]
    },
    {
      "cell_type": "code",
      "execution_count": null,
      "id": "e158d612",
      "metadata": {
        "id": "e158d612",
        "outputId": "0e9b5433-7895-41b7-97d0-933875e6f95f"
      },
      "outputs": [
        {
          "name": "stdout",
          "output_type": "stream",
          "text": [
            "s\n",
            "u\n",
            "d\n",
            "h\n"
          ]
        }
      ],
      "source": [
        "s = \"sudh\"\n",
        "for i in s :\n",
        "    print(i)"
      ]
    },
    {
      "cell_type": "code",
      "execution_count": null,
      "id": "0027fea7",
      "metadata": {
        "id": "0027fea7",
        "outputId": "ebbae75e-36ec-4a45-a05d-aa64f7b0afb7"
      },
      "outputs": [
        {
          "name": "stdout",
          "output_type": "stream",
          "text": [
            "1\n",
            "2\n",
            "3\n",
            "4\n",
            "sudh\n",
            "kumar\n",
            "45.56\n",
            "if for loop is going to complete itself the it will execute else \n"
          ]
        }
      ],
      "source": [
        "for i in l :\n",
        "    print(i)\n",
        "else :\n",
        "    print(\"if for loop is going to complete itself the it will execute else \")"
      ]
    },
    {
      "cell_type": "code",
      "execution_count": null,
      "id": "d9a80907",
      "metadata": {
        "id": "d9a80907",
        "outputId": "cbb3eed1-7d03-4072-e9c7-7318e455d97a"
      },
      "outputs": [
        {
          "data": {
            "text/plain": [
              "[1, 2, 3, 4, 'sudh', 'kumar', 45.56]"
            ]
          },
          "execution_count": 10,
          "metadata": {},
          "output_type": "execute_result"
        }
      ],
      "source": [
        "l"
      ]
    },
    {
      "cell_type": "code",
      "execution_count": null,
      "id": "62d285ec",
      "metadata": {
        "id": "62d285ec",
        "outputId": "e7714473-4077-4061-98f4-780b5348cb0c"
      },
      "outputs": [
        {
          "name": "stdout",
          "output_type": "stream",
          "text": [
            "1\n",
            "2\n",
            "3\n"
          ]
        }
      ],
      "source": [
        "for i in l :\n",
        "    if i == 4 :\n",
        "        break\n",
        "    print(i)\n",
        "else :\n",
        "    print(\"this will execute only if for is going to complete itself\")"
      ]
    },
    {
      "cell_type": "code",
      "execution_count": null,
      "id": "3c6cb81e",
      "metadata": {
        "id": "3c6cb81e",
        "outputId": "57672f3d-3d02-4888-b89b-3b56e42ec462"
      },
      "outputs": [
        {
          "name": "stdout",
          "output_type": "stream",
          "text": [
            "s\n",
            "u\n",
            "d\n",
            "h\n",
            "a\n",
            "n\n",
            "s\n",
            "h\n",
            "u\n",
            "print srtring  sudhanshu\n"
          ]
        }
      ],
      "source": [
        "s = \"sudhanshu\"\n",
        "for i in s :\n",
        "    if i == 'z' :\n",
        "        break\n",
        "    print(i)\n",
        "else :\n",
        "    print(\"print srtring \" , s )\n",
        "        "
      ]
    },
    {
      "cell_type": "code",
      "execution_count": null,
      "id": "c05c6c17",
      "metadata": {
        "id": "c05c6c17",
        "outputId": "c9349298-984d-4cf3-8eca-12dbeeda2014"
      },
      "outputs": [
        {
          "name": "stdout",
          "output_type": "stream",
          "text": [
            "4\n",
            "5\n",
            "6\n",
            "7\n",
            "8\n",
            "6\n",
            "sudh\n"
          ]
        }
      ],
      "source": [
        "t = (4,5,6,7,8,6,\"sudh\")\n",
        "for i in t :\n",
        "    print(i)"
      ]
    },
    {
      "cell_type": "code",
      "execution_count": null,
      "id": "aee7e59b",
      "metadata": {
        "id": "aee7e59b"
      },
      "outputs": [],
      "source": [
        "b = {4,5,6,7,7,7,7,7,7,7,7, 8,\"sudh\"}"
      ]
    },
    {
      "cell_type": "code",
      "execution_count": null,
      "id": "a124b211",
      "metadata": {
        "id": "a124b211",
        "outputId": "629cd3f5-35b8-43c3-f642-f87287eb5659"
      },
      "outputs": [
        {
          "data": {
            "text/plain": [
              "set"
            ]
          },
          "execution_count": 16,
          "metadata": {},
          "output_type": "execute_result"
        }
      ],
      "source": [
        "type(b)"
      ]
    },
    {
      "cell_type": "code",
      "execution_count": null,
      "id": "9e379087",
      "metadata": {
        "id": "9e379087",
        "outputId": "a94ffd18-72c2-4f8d-cae5-6494db02323d"
      },
      "outputs": [
        {
          "data": {
            "text/plain": [
              "{4, 5, 6, 7, 8, 'sudh'}"
            ]
          },
          "execution_count": 17,
          "metadata": {},
          "output_type": "execute_result"
        }
      ],
      "source": [
        "b"
      ]
    },
    {
      "cell_type": "code",
      "execution_count": null,
      "id": "927717fe",
      "metadata": {
        "id": "927717fe",
        "outputId": "e61965d4-a214-4e83-82b1-820f51e9f95b"
      },
      "outputs": [
        {
          "name": "stdout",
          "output_type": "stream",
          "text": [
            "4\n",
            "5\n",
            "6\n",
            "7\n",
            "8\n",
            "sudh\n"
          ]
        }
      ],
      "source": [
        "for i in b :\n",
        "    print(i)"
      ]
    },
    {
      "cell_type": "code",
      "execution_count": null,
      "id": "444d8f49",
      "metadata": {
        "id": "444d8f49"
      },
      "outputs": [],
      "source": [
        "d = {'key1' :\"sudh\" , 'contact' : \"sudhanshu@ineuron.ai\" , \"position\" : \"xyz\"}"
      ]
    },
    {
      "cell_type": "code",
      "execution_count": null,
      "id": "c49b2c4c",
      "metadata": {
        "id": "c49b2c4c",
        "outputId": "761432a2-17e1-47f2-e063-8d8508d02850"
      },
      "outputs": [
        {
          "name": "stdout",
          "output_type": "stream",
          "text": [
            "key1 : sudh\n",
            "contact : sudhanshu@ineuron.ai\n",
            "position : xyz\n"
          ]
        }
      ],
      "source": [
        "for i in d :\n",
        "    print(i ,\":\" ,  d[i] )"
      ]
    },
    {
      "cell_type": "code",
      "execution_count": null,
      "id": "94395d44",
      "metadata": {
        "id": "94395d44",
        "outputId": "4871157c-4af0-4170-9271-7d231954af2b"
      },
      "outputs": [
        {
          "data": {
            "text/plain": [
              "'sudh'"
            ]
          },
          "execution_count": 22,
          "metadata": {},
          "output_type": "execute_result"
        }
      ],
      "source": [
        "d['key1']"
      ]
    },
    {
      "cell_type": "code",
      "execution_count": null,
      "id": "554220c4",
      "metadata": {
        "id": "554220c4",
        "outputId": "c304a687-9ea4-4235-8054-7cc250169fea"
      },
      "outputs": [
        {
          "data": {
            "text/plain": [
              "range(0, 9)"
            ]
          },
          "execution_count": 27,
          "metadata": {},
          "output_type": "execute_result"
        }
      ],
      "source": [
        "range(9)"
      ]
    },
    {
      "cell_type": "code",
      "execution_count": null,
      "id": "9203e12d",
      "metadata": {
        "id": "9203e12d",
        "outputId": "00efc232-f5ea-4168-d983-9b4b89f8f4fc"
      },
      "outputs": [
        {
          "data": {
            "text/plain": [
              "[0, 1, 2, 3, 4, 5, 6, 7, 8]"
            ]
          },
          "execution_count": 28,
          "metadata": {},
          "output_type": "execute_result"
        }
      ],
      "source": [
        "list(range(9))"
      ]
    },
    {
      "cell_type": "code",
      "execution_count": null,
      "id": "16549fcf",
      "metadata": {
        "id": "16549fcf",
        "outputId": "22c20cfc-85a3-4634-8dbb-1141e1e80b07"
      },
      "outputs": [
        {
          "name": "stdout",
          "output_type": "stream",
          "text": [
            "0\n",
            "1\n",
            "2\n",
            "3\n",
            "4\n",
            "5\n",
            "6\n",
            "7\n",
            "8\n"
          ]
        }
      ],
      "source": [
        "for i in range(9):\n",
        "    print(i)"
      ]
    },
    {
      "cell_type": "code",
      "execution_count": null,
      "id": "4753ccf8",
      "metadata": {
        "id": "4753ccf8",
        "outputId": "9cc93500-a99b-4025-82be-51a0f76f188d"
      },
      "outputs": [
        {
          "data": {
            "text/plain": [
              "[0, 1, 2, 3, 4, 5, 6, 7, 8]"
            ]
          },
          "execution_count": 31,
          "metadata": {},
          "output_type": "execute_result"
        }
      ],
      "source": [
        "list(range(0,9))"
      ]
    },
    {
      "cell_type": "code",
      "execution_count": null,
      "id": "1f883fd8",
      "metadata": {
        "id": "1f883fd8",
        "outputId": "ed3b1215-eea7-42a8-9b7b-d4642c780de5"
      },
      "outputs": [
        {
          "data": {
            "text/plain": [
              "[0, 2, 4, 6, 8]"
            ]
          },
          "execution_count": 32,
          "metadata": {},
          "output_type": "execute_result"
        }
      ],
      "source": [
        "list(range(0,9 , 2))"
      ]
    },
    {
      "cell_type": "code",
      "execution_count": null,
      "id": "692f4890",
      "metadata": {
        "id": "692f4890",
        "outputId": "d090c3b8-85f7-4962-ebdc-853bf158c304"
      },
      "outputs": [
        {
          "data": {
            "text/plain": [
              "[]"
            ]
          },
          "execution_count": 33,
          "metadata": {},
          "output_type": "execute_result"
        }
      ],
      "source": [
        "list(range(0,9 , -1))"
      ]
    },
    {
      "cell_type": "code",
      "execution_count": null,
      "id": "097f8d2e",
      "metadata": {
        "id": "097f8d2e",
        "outputId": "a6db4c37-1417-4be4-ee6c-a552cb0f6dd1"
      },
      "outputs": [
        {
          "data": {
            "text/plain": [
              "[9, 8, 7, 6, 5, 4, 3, 2, 1]"
            ]
          },
          "execution_count": 34,
          "metadata": {},
          "output_type": "execute_result"
        }
      ],
      "source": [
        "list(range(9,0 , -1))"
      ]
    },
    {
      "cell_type": "code",
      "execution_count": null,
      "id": "eb744426",
      "metadata": {
        "id": "eb744426",
        "outputId": "bbf8d883-ceec-49bd-9df6-f59770746e59"
      },
      "outputs": [
        {
          "name": "stdout",
          "output_type": "stream",
          "text": [
            "sudh     \n",
            "\n",
            "sudh     sudh     \n",
            "\n",
            "sudh     sudh     sudh     \n",
            "\n",
            "sudh     sudh     sudh     sudh     \n",
            "\n"
          ]
        }
      ],
      "source": [
        "n = 4 \n",
        "for i in range(4) :\n",
        "    for j in range(0 ,i+1) : \n",
        "        print(\"sudh\" , end = \"     \")\n",
        "    print(\"\\n\")"
      ]
    },
    {
      "cell_type": "code",
      "execution_count": null,
      "id": "6d5e1b53",
      "metadata": {
        "id": "6d5e1b53",
        "outputId": "f512a7cc-49b8-49db-af67-01234aa6a80f"
      },
      "outputs": [
        {
          "name": "stdout",
          "output_type": "stream",
          "text": [
            "          sudh \n",
            "     sudh sudh sudh \n",
            "sudh sudh sudh sudh sudh \n"
          ]
        }
      ],
      "source": [
        "n=3\n",
        "for i in range(n):\n",
        "    for j in range(i,n-1):\n",
        "        print(\" \" * len(\"sudh\"),end=\" \")\n",
        "    for j in range(i+1):\n",
        "        print(\"sudh\",end=\" \")\n",
        "    for j in range(i): \n",
        "        print(\"sudh\",end=\" \")\n",
        "    print()\n"
      ]
    },
    {
      "cell_type": "code",
      "execution_count": null,
      "id": "539c7a4b",
      "metadata": {
        "id": "539c7a4b",
        "outputId": "ad1ae923-2ad3-40eb-b78d-fb9d31802518"
      },
      "outputs": [
        {
          "name": "stdout",
          "output_type": "stream",
          "text": [
            "      sudh \n",
            "    sudh sudh \n",
            "  sudh sudh sudh \n",
            "sudh sudh sudh sudh \n"
          ]
        }
      ],
      "source": [
        "n=4\n",
        "k=n\n",
        "for i in range(n):\n",
        "    k=k-1\n",
        "    print('  '*k, end='')\n",
        "    for j in range(i+1):\n",
        "        print('sudh ', end= '')\n",
        "    print()\n"
      ]
    },
    {
      "cell_type": "code",
      "execution_count": null,
      "id": "dc823bf5",
      "metadata": {
        "id": "dc823bf5",
        "outputId": "2b19fd79-b178-40a9-c8a4-7f529023eeaf"
      },
      "outputs": [
        {
          "name": "stdout",
          "output_type": "stream",
          "text": [
            "  sudh \n",
            " sudh sudh \n",
            "sudh sudh sudh \n"
          ]
        }
      ],
      "source": [
        "n=3\n",
        "for i in range(n):\n",
        "    for j in range(i,n-1):\n",
        "        print(\"\",end=' ')\n",
        "    for j in range(i+1):\n",
        "        print(\"sudh\",end=' ')\n",
        "    print()\n"
      ]
    },
    {
      "cell_type": "code",
      "execution_count": null,
      "id": "5cce0196",
      "metadata": {
        "id": "5cce0196",
        "outputId": "c7f376ab-7be5-4c33-84c5-969a70d4156f"
      },
      "outputs": [
        {
          "name": "stdout",
          "output_type": "stream",
          "text": [
            "   \n",
            "  sudh \n",
            " sudh sudh \n",
            "sudh sudh sudh \n"
          ]
        }
      ],
      "source": [
        "n = 3\n",
        "\n",
        "for i in range(n+1):\n",
        "    print(' '*(n-i) + 'sudh '*i)\n"
      ]
    },
    {
      "cell_type": "code",
      "execution_count": null,
      "id": "1965a936",
      "metadata": {
        "id": "1965a936",
        "outputId": "84c95b0d-1a98-480a-cf44-a86e45645b89"
      },
      "outputs": [
        {
          "data": {
            "text/plain": [
              "[]"
            ]
          },
          "execution_count": 49,
          "metadata": {},
          "output_type": "execute_result"
        }
      ],
      "source": [
        "list(range(0))"
      ]
    },
    {
      "cell_type": "code",
      "execution_count": null,
      "id": "ae20e482",
      "metadata": {
        "id": "ae20e482"
      },
      "outputs": [],
      "source": [
        "t = (3,23,45,67,2,4,5,6)"
      ]
    },
    {
      "cell_type": "code",
      "execution_count": null,
      "id": "fa3a7dd7",
      "metadata": {
        "id": "fa3a7dd7",
        "outputId": "967bd384-7000-4823-efe4-1f0f925dd0db"
      },
      "outputs": [
        {
          "data": {
            "text/plain": [
              "3"
            ]
          },
          "execution_count": 55,
          "metadata": {},
          "output_type": "execute_result"
        }
      ],
      "source": [
        "t[0]"
      ]
    },
    {
      "cell_type": "code",
      "execution_count": null,
      "id": "787cc580",
      "metadata": {
        "id": "787cc580",
        "outputId": "f16fcb28-f03b-4248-a4e0-6c43e7da40c5"
      },
      "outputs": [
        {
          "name": "stdout",
          "output_type": "stream",
          "text": [
            "0 3\n",
            "1 23\n",
            "2 45\n",
            "3 67\n",
            "4 2\n",
            "5 4\n",
            "6 5\n",
            "7 6\n"
          ]
        }
      ],
      "source": [
        "for i in range(len(t)):\n",
        "    print(i,t[i])"
      ]
    },
    {
      "cell_type": "code",
      "execution_count": null,
      "id": "d945f1c1",
      "metadata": {
        "id": "d945f1c1",
        "outputId": "2b80a459-898f-4a89-b765-b8ded2599f80"
      },
      "outputs": [
        {
          "data": {
            "text/plain": [
              "[0, 1, 2, 3, 4, 5, 6, 7]"
            ]
          },
          "execution_count": 54,
          "metadata": {},
          "output_type": "execute_result"
        }
      ],
      "source": [
        "list(range(len(t)))"
      ]
    },
    {
      "cell_type": "code",
      "execution_count": null,
      "id": "45ec0df8",
      "metadata": {
        "id": "45ec0df8",
        "outputId": "09dc29c6-c4ea-4231-bf25-67ae91fe2e36"
      },
      "outputs": [
        {
          "name": "stdout",
          "output_type": "stream",
          "text": [
            "0 3\n",
            "1 23\n",
            "2 45\n",
            "3 67\n",
            "4 2\n",
            "5 4\n",
            "6 5\n",
            "7 6\n"
          ]
        }
      ],
      "source": [
        "t = (3,23,45,67,2,4,5,6)\n",
        "\n",
        "for i in range(len(t)):\n",
        "    print(i,t[i])\n"
      ]
    },
    {
      "cell_type": "code",
      "execution_count": null,
      "id": "f03784cb",
      "metadata": {
        "id": "f03784cb",
        "outputId": "a4c7c5af-8795-4c94-ff6f-d1276ff2b284"
      },
      "outputs": [
        {
          "name": "stdout",
          "output_type": "stream",
          "text": [
            "0 i\n",
            "1 n\n",
            "2 e\n",
            "3 u\n",
            "4 r\n",
            "5 o\n",
            "6 n\n"
          ]
        }
      ],
      "source": [
        "s = \"ineuron\"\n",
        "for i in range(len(s)) : \n",
        "    print(i , s[i])"
      ]
    },
    {
      "cell_type": "code",
      "execution_count": null,
      "id": "a3373360",
      "metadata": {
        "id": "a3373360",
        "outputId": "cb53d347-d302-46f3-d076-a3b6d7322c90"
      },
      "outputs": [
        {
          "data": {
            "text/plain": [
              "'ineuron'"
            ]
          },
          "execution_count": 61,
          "metadata": {},
          "output_type": "execute_result"
        }
      ],
      "source": [
        "s "
      ]
    },
    {
      "cell_type": "code",
      "execution_count": null,
      "id": "c9c66ea9",
      "metadata": {
        "id": "c9c66ea9",
        "outputId": "4d54f5cf-ad33-45b5-e117-31711fe62bd9"
      },
      "outputs": [
        {
          "name": "stdout",
          "output_type": "stream",
          "text": [
            "6 n\n",
            "5 o\n",
            "4 r\n",
            "3 u\n",
            "2 e\n",
            "1 n\n",
            "0 i\n"
          ]
        }
      ],
      "source": [
        "for i in range(len(s)-1 , -1, -1):\n",
        "    print(i , s[i])"
      ]
    },
    {
      "cell_type": "code",
      "execution_count": null,
      "id": "07908b6b",
      "metadata": {
        "id": "07908b6b",
        "outputId": "af6efb69-042c-4cdc-f83c-3b6a501b58d5"
      },
      "outputs": [
        {
          "data": {
            "text/plain": [
              "{'key1': 'sudh', 'contact': 'sudhanshu@ineuron.ai', 'position': 'xyz'}"
            ]
          },
          "execution_count": 70,
          "metadata": {},
          "output_type": "execute_result"
        }
      ],
      "source": [
        "d"
      ]
    },
    {
      "cell_type": "code",
      "execution_count": null,
      "id": "1a11f6a0",
      "metadata": {
        "id": "1a11f6a0",
        "outputId": "6e8616e7-826d-4d58-96cc-b274eeb48e64"
      },
      "outputs": [
        {
          "name": "stdout",
          "output_type": "stream",
          "text": [
            "('key1', 'sudh') <class 'tuple'> <class 'str'>\n",
            "('contact', 'sudhanshu@ineuron.ai') <class 'tuple'> <class 'str'>\n",
            "('position', 'xyz') <class 'tuple'> <class 'str'>\n"
          ]
        }
      ],
      "source": [
        "for i in d.items():\n",
        "    print(i , type(i) , type(i[1]))"
      ]
    },
    {
      "cell_type": "code",
      "execution_count": null,
      "id": "27105750",
      "metadata": {
        "id": "27105750"
      },
      "outputs": [],
      "source": [
        "l = [\"sudh\" , \"kuamr\" , 3234545 , \"sudhanshu@ineuron.ai\" , 345, 34345353]\n",
        "l1 = []\n",
        "for i in l :\n",
        "    if type(i) == int :\n",
        "        l1.append(i)\n",
        "\n"
      ]
    },
    {
      "cell_type": "code",
      "execution_count": null,
      "id": "b4ac33cc",
      "metadata": {
        "id": "b4ac33cc",
        "outputId": "6461251b-bac7-4e8a-ea3d-0072f50513bc"
      },
      "outputs": [
        {
          "data": {
            "text/plain": [
              "[3234545, 345, 34345353]"
            ]
          },
          "execution_count": 76,
          "metadata": {},
          "output_type": "execute_result"
        }
      ],
      "source": [
        "l1"
      ]
    },
    {
      "cell_type": "code",
      "execution_count": null,
      "id": "bf54b65b",
      "metadata": {
        "id": "bf54b65b"
      },
      "outputs": [],
      "source": [
        " d = {1: 3345345  , \"name\" : \"sudh\" , \"email_id\" : \"sudhanshu@ineuron.ai\" , 234 : \"fsfddsf\" , \"43\" : \"sfsaf\" , 234 : \"3454\"}"
      ]
    },
    {
      "cell_type": "code",
      "execution_count": null,
      "id": "c502d0ca",
      "metadata": {
        "id": "c502d0ca",
        "outputId": "dd072fb1-4a3d-4b88-999d-942da2d6328b"
      },
      "outputs": [
        {
          "name": "stdout",
          "output_type": "stream",
          "text": [
            "1 : 3345345\n",
            "234 : 3454\n"
          ]
        }
      ],
      "source": [
        "for i in d :\n",
        "    if type(i) == int :\n",
        "        print(i , \":\"  , d[i])"
      ]
    },
    {
      "cell_type": "code",
      "execution_count": null,
      "id": "bc5be456",
      "metadata": {
        "id": "bc5be456"
      },
      "outputs": [],
      "source": [
        "s = \"aaaabbccd\""
      ]
    },
    {
      "cell_type": "code",
      "execution_count": null,
      "id": "b62dc9a2",
      "metadata": {
        "id": "b62dc9a2",
        "outputId": "909b55bb-2d89-438a-bbf7-0dc18307cab0"
      },
      "outputs": [
        {
          "name": "stdout",
          "output_type": "stream",
          "text": [
            "b : 2\n",
            "a : 4\n",
            "c : 2\n",
            "d : 1\n"
          ]
        }
      ],
      "source": [
        "for i in set(s):\n",
        "    print(i  , \":\" , s.count(i))    "
      ]
    },
    {
      "cell_type": "code",
      "execution_count": null,
      "id": "c2546bb9",
      "metadata": {
        "id": "c2546bb9",
        "outputId": "8f9d11eb-888d-44ba-e18c-d3171add2960"
      },
      "outputs": [
        {
          "data": {
            "text/plain": [
              "4"
            ]
          },
          "execution_count": 82,
          "metadata": {},
          "output_type": "execute_result"
        }
      ],
      "source": [
        "s.count('a')"
      ]
    },
    {
      "cell_type": "code",
      "execution_count": null,
      "id": "35375dc5",
      "metadata": {
        "id": "35375dc5",
        "outputId": "b93163c3-b69c-44c0-ba39-2646d2610372"
      },
      "outputs": [
        {
          "name": "stdout",
          "output_type": "stream",
          "text": [
            "3 <class 'int'>\n",
            "4 <class 'int'>\n",
            "5 <class 'int'>\n",
            "3 <class 'int'>\n",
            "4 <class 'int'>\n",
            "6 <class 'int'>\n",
            "5 <class 'int'>\n",
            "4 <class 'int'>\n",
            "6 <class 'int'>\n",
            "4 <class 'int'>\n",
            "6 <class 'int'>\n",
            "4 <class 'int'>\n",
            "3 <class 'int'>\n",
            "5 <class 'int'>\n"
          ]
        }
      ],
      "source": [
        "i = 34534654646435\n",
        "for j in str(i) :\n",
        "    print(int(j ), type(int(j)))"
      ]
    },
    {
      "cell_type": "code",
      "execution_count": null,
      "id": "1a78889b",
      "metadata": {
        "id": "1a78889b",
        "outputId": "45194bad-a204-468e-f10d-61f0a66f1d46"
      },
      "outputs": [
        {
          "data": {
            "text/plain": [
              "'34534654646435'"
            ]
          },
          "execution_count": 85,
          "metadata": {},
          "output_type": "execute_result"
        }
      ],
      "source": [
        "str(i)"
      ]
    },
    {
      "cell_type": "code",
      "execution_count": null,
      "id": "b7c07cb6",
      "metadata": {
        "id": "b7c07cb6"
      },
      "outputs": [],
      "source": [
        "t = (\"sudh\" , \"kumar\" ,[1,2,3,4,5] , (3,4,5,6) , {3:3 , \"key2\" :\"kumar\"})"
      ]
    },
    {
      "cell_type": "code",
      "execution_count": null,
      "id": "ee62969e",
      "metadata": {
        "id": "ee62969e"
      },
      "outputs": [],
      "source": [
        "t=(\"sudh\",\"kumar\",[1,3,5,7,4],(3,5,88,4),{3:3,3:\"kjshdf\",\"key1\":\"sudh\",\"key2\":\"kumar\"})"
      ]
    },
    {
      "cell_type": "code",
      "execution_count": null,
      "id": "3d9496f8",
      "metadata": {
        "id": "3d9496f8",
        "outputId": "828a5364-d08b-46ce-bdeb-d983b3f5fd34"
      },
      "outputs": [
        {
          "name": "stdout",
          "output_type": "stream",
          "text": [
            "3\n",
            "3\n",
            "3\n",
            "kjshdf\n"
          ]
        }
      ],
      "source": [
        "for i in t :\n",
        "    if type(i) == list or type(i) == tuple :\n",
        "        for j in i :\n",
        "            if j == 3 :\n",
        "                print(j)\n",
        "    if type(i) == dict :\n",
        "        for k,v  in i.items():\n",
        "            if k == 3 or v == 3 :\n",
        "                print(k)\n",
        "                print(v)\n",
        "        "
      ]
    },
    {
      "cell_type": "code",
      "execution_count": null,
      "id": "76b278bf",
      "metadata": {
        "id": "76b278bf"
      },
      "outputs": [],
      "source": [
        "d = {4:5 , \"key1\" : \"sudh\" , \"key2\" : \"kumar\"}"
      ]
    },
    {
      "cell_type": "code",
      "execution_count": null,
      "id": "0955b52c",
      "metadata": {
        "id": "0955b52c",
        "outputId": "23986cc6-8879-4b2b-fa66-33a084e6dd7a"
      },
      "outputs": [
        {
          "data": {
            "text/plain": [
              "dict_items([(4, 5), ('key1', 'sudh'), ('key2', 'kumar')])"
            ]
          },
          "execution_count": 135,
          "metadata": {},
          "output_type": "execute_result"
        }
      ],
      "source": [
        "d.items()"
      ]
    },
    {
      "cell_type": "code",
      "execution_count": null,
      "id": "b54881ee",
      "metadata": {
        "id": "b54881ee",
        "outputId": "9244f9f4-a136-4e75-f924-13d469d8094b"
      },
      "outputs": [
        {
          "name": "stdout",
          "output_type": "stream",
          "text": [
            "(4, 5)\n",
            "('key1', 'sudh')\n",
            "('key2', 'kumar')\n"
          ]
        }
      ],
      "source": [
        "for i in d.items():\n",
        "    print(i)"
      ]
    },
    {
      "cell_type": "code",
      "execution_count": null,
      "id": "4f78888b",
      "metadata": {
        "id": "4f78888b",
        "outputId": "b0d3219a-1c9d-4ffd-e998-aaa4ac4a5a63"
      },
      "outputs": [
        {
          "data": {
            "text/plain": [
              "dict_items([(4, 5), ('key1', 'sudh'), ('key2', 'kumar')])"
            ]
          },
          "execution_count": 105,
          "metadata": {},
          "output_type": "execute_result"
        }
      ],
      "source": [
        "d.items()"
      ]
    },
    {
      "cell_type": "code",
      "execution_count": null,
      "id": "99091377",
      "metadata": {
        "id": "99091377"
      },
      "outputs": [],
      "source": [
        "a = 10 \n",
        "b = 20\n",
        "c = 30 "
      ]
    },
    {
      "cell_type": "code",
      "execution_count": null,
      "id": "b1a6b6ca",
      "metadata": {
        "id": "b1a6b6ca"
      },
      "outputs": [],
      "source": [
        "a , b , c = 10 , 20 , 30 "
      ]
    },
    {
      "cell_type": "code",
      "execution_count": null,
      "id": "41ab2383",
      "metadata": {
        "id": "41ab2383"
      },
      "outputs": [],
      "source": [
        "a,b,c = (10,20,30)"
      ]
    },
    {
      "cell_type": "code",
      "execution_count": null,
      "id": "db438917",
      "metadata": {
        "id": "db438917",
        "outputId": "85bbd9dd-733b-4a1f-beb5-7ae4276f2ef4"
      },
      "outputs": [
        {
          "ename": "IndentationError",
          "evalue": "unindent does not match any outer indentation level (<tokenize>, line 10)",
          "output_type": "error",
          "traceback": [
            "\u001b[1;36m  File \u001b[1;32m\"<tokenize>\"\u001b[1;36m, line \u001b[1;32m10\u001b[0m\n\u001b[1;33m    ineruon      ineruon\u001b[0m\n\u001b[1;37m    ^\u001b[0m\n\u001b[1;31mIndentationError\u001b[0m\u001b[1;31m:\u001b[0m unindent does not match any outer indentation level\n"
          ]
        }
      ],
      "source": [
        "q1 :\n",
        "ineruon \n",
        "ineruon ineruon \n",
        "ineruon ineruon ineruon\n",
        "ineruon ineruon ineruon ineruon\n",
        "\n",
        "q2 - \n",
        "\n",
        "          ineruon\n",
        "    ineruon      ineruon\n",
        "ineruon\t\tineruon \tineruon\n",
        "\tineruon\t\t ineruon\n",
        "\t\t  ineruon\n",
        "\n",
        "l = [[1,2,3,4] , (2,3,4,5,6) , (3,4,5,6,7) , set([23,4,5,45,4,4,5,45,45,4,5]) , {'k1' :\"sudh\" , \"k2\" : \"ineuron\",\"k3\":\n",
        "            \"kumar\" , 3:6 , 7:8} , [\"ineuron\" , \"data science \"]]\n",
        "\n",
        "q3 : Try to extract all the list entity \n",
        "q4 : Try to extract all the dict enteties\n",
        "q5 : Try to extract all the tuples entities\n",
        "q6 : Try to extract all the numerical data it may b a part of dict key and values \n",
        "q7 : Try to give summation of all the numeric data \n",
        "q8 : Try to filter out all the odd values out all numeric data which is a part of a list \n",
        "q9 : Try to extract \"ineruon\" out of this data\n",
        "q10 :Try to find out a number of occurances of all the data \n",
        "q11 : Try to find out number of keys in dict element\n",
        "q12 : Try to filter out all the string data \n",
        "q13 : Try to Find  out alphanum in data\n",
        "q14 : Try to find out multiplication of all numeric value in  the individual collection inside dataset \n",
        "q15 : Try to unwrape all the collection inside collection and create a flat list \n",
        "    \n",
        "    \n",
        "before 29th may 2022 3 PM IST you have to send an answer to me or to shivan \n",
        "sudhanshu@ineuron.ai\n",
        "shivan@ineuron.ai"
      ]
    },
    {
      "cell_type": "code",
      "execution_count": null,
      "id": "577d9dfb",
      "metadata": {
        "id": "577d9dfb",
        "outputId": "d80186bc-1aee-4e75-9e6d-960a71b350d1"
      },
      "outputs": [
        {
          "ename": "TypeError",
          "evalue": "unhashable type: 'list'",
          "output_type": "error",
          "traceback": [
            "\u001b[1;31m---------------------------------------------------------------------------\u001b[0m",
            "\u001b[1;31mTypeError\u001b[0m                                 Traceback (most recent call last)",
            "\u001b[1;32m~\\AppData\\Local\\Temp/ipykernel_36256/3516709124.py\u001b[0m in \u001b[0;36m<module>\u001b[1;34m\u001b[0m\n\u001b[1;32m----> 1\u001b[1;33m \u001b[0md\u001b[0m\u001b[1;33m=\u001b[0m \u001b[1;33m{\u001b[0m\u001b[1;34m'key1'\u001b[0m \u001b[1;33m:\u001b[0m\u001b[1;34m\"sudh\"\u001b[0m \u001b[1;33m,\u001b[0m \u001b[1;33m(\u001b[0m\u001b[1;36m3\u001b[0m\u001b[1;33m,\u001b[0m\u001b[1;36m4\u001b[0m\u001b[1;33m,\u001b[0m\u001b[1;36m5\u001b[0m\u001b[1;33m,\u001b[0m\u001b[1;36m65\u001b[0m\u001b[1;33m)\u001b[0m \u001b[1;33m:\u001b[0m \u001b[1;34m\"fdsfdsd\"\u001b[0m \u001b[1;33m,\u001b[0m \u001b[1;33m[\u001b[0m\u001b[1;36m3\u001b[0m\u001b[1;33m,\u001b[0m\u001b[1;36m4\u001b[0m\u001b[1;33m,\u001b[0m\u001b[1;36m5\u001b[0m\u001b[1;33m,\u001b[0m\u001b[1;36m6\u001b[0m\u001b[1;33m]\u001b[0m \u001b[1;33m:\u001b[0m\u001b[1;34m\"345\"\u001b[0m\u001b[1;33m}\u001b[0m\u001b[1;33m\u001b[0m\u001b[1;33m\u001b[0m\u001b[0m\n\u001b[0m",
            "\u001b[1;31mTypeError\u001b[0m: unhashable type: 'list'"
          ]
        }
      ],
      "source": [
        "d= {'key1' :\"sudh\" , (3,4,5,65) : \"fdsfdsd\" , [3,4,5,6] :\"345\"}"
      ]
    },
    {
      "cell_type": "code",
      "execution_count": null,
      "id": "e94d0e64",
      "metadata": {
        "id": "e94d0e64",
        "outputId": "d71223fb-52b1-4f16-b349-c1d9336c3282"
      },
      "outputs": [
        {
          "name": "stdout",
          "output_type": "stream",
          "text": [
            "3\n",
            "3\n",
            "3\n",
            "3\n"
          ]
        }
      ],
      "source": [
        "for i in t:\n",
        "    if type(i) == list or type(i) == tuple:\n",
        "        for j in i:\n",
        "            if j == 3:\n",
        "                print(j)\n",
        "    if type(i) == dict:\n",
        "        for k,v in i.items():\n",
        "            if k == 3 or v == 3:\n",
        "                print(k)\n",
        "                print(v)"
      ]
    },
    {
      "cell_type": "code",
      "execution_count": null,
      "id": "4269cdc2",
      "metadata": {
        "id": "4269cdc2",
        "outputId": "321c62ce-b64e-4025-d396-80f507fc2365"
      },
      "outputs": [
        {
          "ename": "KeyError",
          "evalue": "'a'",
          "output_type": "error",
          "traceback": [
            "\u001b[1;31m---------------------------------------------------------------------------\u001b[0m",
            "\u001b[1;31mKeyError\u001b[0m                                  Traceback (most recent call last)",
            "\u001b[1;32m~\\AppData\\Local\\Temp/ipykernel_36256/3418551350.py\u001b[0m in \u001b[0;36m<module>\u001b[1;34m\u001b[0m\n\u001b[0;32m      1\u001b[0m \u001b[0md1\u001b[0m \u001b[1;33m=\u001b[0m \u001b[1;33m{\u001b[0m\u001b[1;33m}\u001b[0m\u001b[1;33m\u001b[0m\u001b[1;33m\u001b[0m\u001b[0m\n\u001b[1;32m----> 2\u001b[1;33m \u001b[0md1\u001b[0m\u001b[1;33m[\u001b[0m\u001b[1;34m'a'\u001b[0m\u001b[1;33m]\u001b[0m \u001b[1;33m==\u001b[0m \u001b[1;32mNone\u001b[0m\u001b[1;33m\u001b[0m\u001b[1;33m\u001b[0m\u001b[0m\n\u001b[0m",
            "\u001b[1;31mKeyError\u001b[0m: 'a'"
          ]
        }
      ],
      "source": [
        "d1 = {}\n",
        "d1['a'] == None"
      ]
    },
    {
      "cell_type": "code",
      "execution_count": null,
      "id": "b023587b",
      "metadata": {
        "id": "b023587b",
        "outputId": "4ec5d964-3ec3-4318-ead1-e078198d1f9a"
      },
      "outputs": [
        {
          "ename": "KeyError",
          "evalue": "'a'",
          "output_type": "error",
          "traceback": [
            "\u001b[1;31m---------------------------------------------------------------------------\u001b[0m",
            "\u001b[1;31mKeyError\u001b[0m                                  Traceback (most recent call last)",
            "\u001b[1;32m~\\AppData\\Local\\Temp/ipykernel_36256/983012404.py\u001b[0m in \u001b[0;36m<module>\u001b[1;34m\u001b[0m\n\u001b[0;32m      3\u001b[0m \u001b[1;33m\u001b[0m\u001b[0m\n\u001b[0;32m      4\u001b[0m \u001b[1;32mfor\u001b[0m \u001b[0mi\u001b[0m \u001b[1;32min\u001b[0m \u001b[0ms\u001b[0m\u001b[1;33m:\u001b[0m\u001b[1;33m\u001b[0m\u001b[1;33m\u001b[0m\u001b[0m\n\u001b[1;32m----> 5\u001b[1;33m     \u001b[1;32mif\u001b[0m \u001b[0md1\u001b[0m\u001b[1;33m[\u001b[0m\u001b[0mi\u001b[0m\u001b[1;33m]\u001b[0m\u001b[1;33m==\u001b[0m\u001b[1;32mNone\u001b[0m \u001b[1;33m:\u001b[0m\u001b[1;33m\u001b[0m\u001b[1;33m\u001b[0m\u001b[0m\n\u001b[0m\u001b[0;32m      6\u001b[0m         \u001b[0mkey\u001b[0m\u001b[1;33m=\u001b[0m\u001b[0mi\u001b[0m\u001b[1;33m\u001b[0m\u001b[1;33m\u001b[0m\u001b[0m\n\u001b[0;32m      7\u001b[0m         \u001b[0md1\u001b[0m\u001b[1;33m=\u001b[0m\u001b[1;33m{\u001b[0m\u001b[0mkey\u001b[0m\u001b[1;33m:\u001b[0m\u001b[1;36m0\u001b[0m\u001b[1;33m}\u001b[0m\u001b[1;33m\u001b[0m\u001b[1;33m\u001b[0m\u001b[0m\n",
            "\u001b[1;31mKeyError\u001b[0m: 'a'"
          ]
        }
      ],
      "source": [
        "s=\"aaaabbccd\"\n",
        "d1={}\n",
        "\n",
        "for i in s:\n",
        "    if d1[i]==None :\n",
        "        key=i\n",
        "        d1={key:0}\n",
        "    else:\n",
        "        d1[i]=d1[i]+1\n",
        "print(d1)\n"
      ]
    },
    {
      "cell_type": "code",
      "execution_count": null,
      "id": "27afcae7",
      "metadata": {
        "id": "27afcae7"
      },
      "outputs": [],
      "source": [
        "s=\"aaaabbccd\"\n",
        "d = {}\n",
        "for i in set(s) : \n",
        "    d[i] =  s.count(i)\n",
        "    "
      ]
    },
    {
      "cell_type": "code",
      "execution_count": null,
      "id": "761bf90f",
      "metadata": {
        "id": "761bf90f",
        "outputId": "6ea751fc-5728-44a9-b296-08a7a8541817"
      },
      "outputs": [
        {
          "data": {
            "text/plain": [
              "{'b': 2, 'a': 4, 'c': 2, 'd': 1}"
            ]
          },
          "execution_count": 121,
          "metadata": {},
          "output_type": "execute_result"
        }
      ],
      "source": [
        "d"
      ]
    },
    {
      "cell_type": "code",
      "execution_count": null,
      "id": "ca866355",
      "metadata": {
        "id": "ca866355",
        "outputId": "283c3eef-73ab-44fd-f305-3e3e9a53bc9d"
      },
      "outputs": [
        {
          "data": {
            "text/plain": [
              "([6, 5, 4, 3, 2, 1, 0], 'ineuron')"
            ]
          },
          "execution_count": 130,
          "metadata": {},
          "output_type": "execute_result"
        }
      ],
      "source": [
        "l = list(range(6,-1,-1))\n",
        "s = 'ineuron'\n",
        "t = (l,s)\n",
        "\n",
        "t"
      ]
    },
    {
      "cell_type": "code",
      "execution_count": null,
      "id": "18b0e400",
      "metadata": {
        "id": "18b0e400",
        "outputId": "bb163b38-2ef6-4daf-ee99-4f74903eac53"
      },
      "outputs": [
        {
          "name": "stdout",
          "output_type": "stream",
          "text": [
            "([6, 5, 4, 3, 2, 1, 0], 'ineuron')\n"
          ]
        },
        {
          "ename": "ValueError",
          "evalue": "too many values to unpack (expected 2)",
          "output_type": "error",
          "traceback": [
            "\u001b[1;31m---------------------------------------------------------------------------\u001b[0m",
            "\u001b[1;31mValueError\u001b[0m                                Traceback (most recent call last)",
            "\u001b[1;32m~\\AppData\\Local\\Temp/ipykernel_36256/401628409.py\u001b[0m in \u001b[0;36m<module>\u001b[1;34m\u001b[0m\n\u001b[0;32m      1\u001b[0m \u001b[0mprint\u001b[0m\u001b[1;33m(\u001b[0m\u001b[0mt\u001b[0m\u001b[1;33m)\u001b[0m\u001b[1;33m\u001b[0m\u001b[1;33m\u001b[0m\u001b[0m\n\u001b[1;32m----> 2\u001b[1;33m \u001b[1;32mfor\u001b[0m \u001b[0mi\u001b[0m\u001b[1;33m,\u001b[0m\u001b[0mj\u001b[0m \u001b[1;32min\u001b[0m \u001b[0mt\u001b[0m\u001b[1;33m:\u001b[0m\u001b[1;33m\u001b[0m\u001b[1;33m\u001b[0m\u001b[0m\n\u001b[0m\u001b[0;32m      3\u001b[0m     \u001b[0mprint\u001b[0m\u001b[1;33m(\u001b[0m\u001b[0mi\u001b[0m\u001b[1;33m,\u001b[0m\u001b[0mj\u001b[0m\u001b[1;33m)\u001b[0m\u001b[1;33m\u001b[0m\u001b[1;33m\u001b[0m\u001b[0m\n",
            "\u001b[1;31mValueError\u001b[0m: too many values to unpack (expected 2)"
          ]
        }
      ],
      "source": [
        "print(t)\n",
        "for i,j in t:\n",
        "    print(i,j)"
      ]
    },
    {
      "cell_type": "code",
      "execution_count": null,
      "id": "18fc6daf",
      "metadata": {
        "id": "18fc6daf",
        "outputId": "c65452f2-2f02-48b2-bfd6-93f37a84ed06"
      },
      "outputs": [
        {
          "data": {
            "text/plain": [
              "{'b': 2, 'a': 4, 'c': 2, 'd': 1}"
            ]
          },
          "execution_count": 132,
          "metadata": {},
          "output_type": "execute_result"
        }
      ],
      "source": [
        "d"
      ]
    },
    {
      "cell_type": "code",
      "execution_count": null,
      "id": "c3937a50",
      "metadata": {
        "id": "c3937a50",
        "outputId": "be19a810-f19e-49d2-be01-350bc0e029ba"
      },
      "outputs": [
        {
          "data": {
            "text/plain": [
              "dict_items([('b', 2), ('a', 4), ('c', 2), ('d', 1)])"
            ]
          },
          "execution_count": 133,
          "metadata": {},
          "output_type": "execute_result"
        }
      ],
      "source": [
        "d.items()"
      ]
    },
    {
      "cell_type": "code",
      "execution_count": null,
      "id": "7cf489b5",
      "metadata": {
        "id": "7cf489b5"
      },
      "outputs": [],
      "source": [
        "1.\ti = j = [3]\n",
        "              i += j\n",
        "              print(i,j)\n",
        "\n",
        "\n",
        "2.\tset = {\"python\", \"coding\", \"tips\", \"for\", \"beginners\"}\n",
        "               print(set)\n",
        "              ''.join(set)\n",
        "3.\ttuple = (\"python\", \"coding\", \"tips\", \"for\", \"beginners\")\n",
        "               print(tuple)\n",
        "              ''.join(tuple)\n",
        "4.\tprint(dict((\"py\", \"th\", \"on\")))\n",
        "5.\tx, y = (0,1) if True else None, None\n",
        "print(x)\n",
        "6.\ti = j = [3]\n",
        "i += j\n",
        "print(i,j)\n"
      ]
    },
    {
      "cell_type": "code",
      "execution_count": null,
      "id": "46d04ef0",
      "metadata": {
        "id": "46d04ef0",
        "outputId": "75487183-5e9e-492b-ee32-1e184b5f86f4"
      },
      "outputs": [
        {
          "name": "stdout",
          "output_type": "stream",
          "text": [
            "[3, 3] [3]\n"
          ]
        }
      ],
      "source": [
        "i = j = [3]\n",
        "i = [3] + [3]\n",
        "print(i,j)"
      ]
    },
    {
      "cell_type": "code",
      "execution_count": null,
      "id": "91e56cff",
      "metadata": {
        "id": "91e56cff",
        "outputId": "e6e9b355-413b-4b07-a540-9637cd4d7d64"
      },
      "outputs": [
        {
          "name": "stdout",
          "output_type": "stream",
          "text": [
            "{'tips', 'for', 'coding', 'python', 'beginners'}\n"
          ]
        },
        {
          "data": {
            "text/plain": [
              "'tips for coding python beginners'"
            ]
          },
          "execution_count": 142,
          "metadata": {},
          "output_type": "execute_result"
        }
      ],
      "source": [
        "set = {\"python\", \"coding\", \"tips\", \"for\", \"beginners\"}\n",
        "print(set)\n",
        "' '.join(set)"
      ]
    },
    {
      "cell_type": "code",
      "execution_count": null,
      "id": "691847f4",
      "metadata": {
        "id": "691847f4",
        "outputId": "a7c6462e-9396-424f-fb9b-81c8f976e0ad"
      },
      "outputs": [
        {
          "name": "stdout",
          "output_type": "stream",
          "text": [
            "('python', 'coding', 'tips', 'for', 'beginners')\n"
          ]
        },
        {
          "data": {
            "text/plain": [
              "'python coding tips for beginners'"
            ]
          },
          "execution_count": 144,
          "metadata": {},
          "output_type": "execute_result"
        }
      ],
      "source": [
        "tuple = (\"python\", \"coding\", \"tips\", \"for\", \"beginners\")\n",
        "print(tuple)\n",
        "' '.join(tuple)"
      ]
    },
    {
      "cell_type": "code",
      "execution_count": null,
      "id": "bd8d1a9c",
      "metadata": {
        "id": "bd8d1a9c",
        "outputId": "af0ba3db-6124-4081-c129-24d536c90939"
      },
      "outputs": [
        {
          "name": "stdout",
          "output_type": "stream",
          "text": [
            "{'p': 'y', 't': 'h', 'o': 'n'}\n"
          ]
        }
      ],
      "source": [
        "print(dict((\"py\", \"th\", \"on\")))"
      ]
    },
    {
      "cell_type": "code",
      "execution_count": null,
      "id": "029b152d",
      "metadata": {
        "id": "029b152d",
        "outputId": "5ac9d3de-6dbd-45f4-8709-6be2ed223e81"
      },
      "outputs": [
        {
          "name": "stdout",
          "output_type": "stream",
          "text": [
            "(0, 1)\n"
          ]
        }
      ],
      "source": [
        "x, y = (0,1) if True else None , None\n",
        "print(x)"
      ]
    },
    {
      "cell_type": "code",
      "execution_count": null,
      "id": "1d89ad27",
      "metadata": {
        "id": "1d89ad27"
      },
      "outputs": [],
      "source": [
        "i = j = [3]\n",
        "i += j\n",
        "print(i,j)"
      ]
    },
    {
      "cell_type": "code",
      "execution_count": null,
      "id": "1416dae1",
      "metadata": {
        "id": "1416dae1",
        "outputId": "69e09a2b-32fe-478e-a981-b945d136a804"
      },
      "outputs": [
        {
          "name": "stdout",
          "output_type": "stream",
          "text": [
            "          * \n",
            "        * * * \n",
            "      * * * * * \n",
            "    * * * * * * * \n",
            "  * * * * * * * * * \n",
            "    * * * * * * * \n",
            "      * * * * * \n",
            "        * * * \n",
            "          * \n"
          ]
        }
      ],
      "source": [
        "n=5\n",
        "for i in range(n-1):\n",
        "    for j in range(i,n):\n",
        "        print(\" \",end=\" \")\n",
        "    for j in range(i):\n",
        "        print(\"*\",end=\" \")\n",
        "    for j in range(i+1):\n",
        "        print(\"*\",end=\" \")\n",
        "    print()\n",
        "for i in range(n):    \n",
        "    for j in range(i+1):\n",
        "        print(\" \",end=\" \")\n",
        "    for j in range(i,n-1):\n",
        "        print(\"*\",end=\" \")\n",
        "    for j in range(i,n):\n",
        "        print(\"*\",end=\" \")\n",
        "    print()\n"
      ]
    },
    {
      "cell_type": "code",
      "execution_count": null,
      "id": "66aee2a0",
      "metadata": {
        "id": "66aee2a0"
      },
      "outputs": [],
      "source": [
        "s = {1,1,1,11,1,1,4,4,4,4}"
      ]
    },
    {
      "cell_type": "code",
      "execution_count": null,
      "id": "b7a06dfe",
      "metadata": {
        "id": "b7a06dfe"
      },
      "outputs": [],
      "source": [
        "f = frozenset((1,2,2,3,34,4,4,4,4))"
      ]
    },
    {
      "cell_type": "code",
      "execution_count": null,
      "id": "d81c4500",
      "metadata": {
        "id": "d81c4500"
      },
      "outputs": [],
      "source": [
        "s.add(3)"
      ]
    },
    {
      "cell_type": "code",
      "execution_count": null,
      "id": "061f7670",
      "metadata": {
        "id": "061f7670",
        "outputId": "112eb002-e046-4f47-b1e3-138893e11e6c"
      },
      "outputs": [
        {
          "name": "stdout",
          "output_type": "stream",
          "text": [
            "sudh*\n",
            "sudh*sudh*\n",
            "sudh*sudh*sudh*\n",
            "sudh*sudh*sudh*sudh*\n"
          ]
        }
      ],
      "source": [
        "for i in range(4) :\n",
        "    for j in range (0 , i+1) :\n",
        "        print(\"sudh\" , end = \"*\")\n",
        "    print()"
      ]
    },
    {
      "cell_type": "code",
      "execution_count": null,
      "id": "3f391244",
      "metadata": {
        "id": "3f391244"
      },
      "outputs": [],
      "source": [
        "l= [(3,4,5,6) , [2,4,5,5,6] , {'k1' : 'v1' , 'k2' :'v2'}]\n",
        "l1 = []"
      ]
    },
    {
      "cell_type": "code",
      "execution_count": null,
      "id": "f2e26c2d",
      "metadata": {
        "id": "f2e26c2d"
      },
      "outputs": [],
      "source": [
        "for i in l :\n",
        "    if type(i) == list or type( i )== tuple :\n",
        "        for j in i :\n",
        "            l1.append(j)\n",
        "    if type(i) == dict :\n",
        "        for k in i.items():\n",
        "            for m in k :\n",
        "                l1.append(m)    "
      ]
    },
    {
      "cell_type": "code",
      "execution_count": null,
      "id": "47b4e893",
      "metadata": {
        "id": "47b4e893",
        "outputId": "730a156c-7212-4aa4-a9ec-bedb744fa791"
      },
      "outputs": [
        {
          "data": {
            "text/plain": [
              "[3, 4, 5, 6, 2, 4, 5, 5, 6, 'k1', 'v1', 'k2', 'v2']"
            ]
          },
          "execution_count": 34,
          "metadata": {},
          "output_type": "execute_result"
        }
      ],
      "source": [
        "l1"
      ]
    },
    {
      "cell_type": "code",
      "execution_count": null,
      "id": "234bf593",
      "metadata": {
        "id": "234bf593",
        "outputId": "7306614b-ff8a-4301-ef34-100769292ac5"
      },
      "outputs": [
        {
          "data": {
            "text/plain": [
              "1"
            ]
          },
          "execution_count": 37,
          "metadata": {},
          "output_type": "execute_result"
        }
      ],
      "source": [
        "5%2"
      ]
    },
    {
      "cell_type": "code",
      "execution_count": null,
      "id": "f7c7e969",
      "metadata": {
        "id": "f7c7e969",
        "outputId": "6a0df6b7-cf3d-4f53-8647-a6f5d7a66479"
      },
      "outputs": [
        {
          "name": "stdout",
          "output_type": "stream",
          "text": [
            "3\n",
            "3\n",
            "3\n",
            "3\n"
          ]
        }
      ],
      "source": [
        "t = (\"sudh\" , \"kumar\" , [1,2,3,4,5] , (3,4,5,6) , {3:3 , \"key2\":\"kumar\"})\n",
        "for i in t :\n",
        "    if type(i) == list or type(i) == tuple :\n",
        "        for j in i :\n",
        "            if j == 3 :\n",
        "                print(j)\n",
        "    if type(i) == dict : \n",
        "        for k,v  in i.items():\n",
        "            if k == 3 or v == 3 :\n",
        "                    print(k)\n",
        "                    print(v)\n"
      ]
    },
    {
      "cell_type": "code",
      "execution_count": null,
      "id": "776d959d",
      "metadata": {
        "id": "776d959d",
        "outputId": "8f80386e-b09d-47e0-eebd-431d00457bc5"
      },
      "outputs": [
        {
          "name": "stdout",
          "output_type": "stream",
          "text": [
            "No\n"
          ]
        }
      ],
      "source": [
        "a = \"sudh\"\n",
        "\n",
        "if \"3\" in a:\n",
        "    print(\"yes\")\n",
        "else:\n",
        "    print(\"No\")\n"
      ]
    },
    {
      "cell_type": "code",
      "execution_count": null,
      "id": "81e7d146",
      "metadata": {
        "id": "81e7d146"
      },
      "outputs": [],
      "source": [
        "a = \"sudh\"\n",
        "\n",
        "if 3 in a:\n",
        "    print(\"yes\")\n",
        "else:\n",
        "    print(\"No\")\n",
        "\n",
        "\n",
        "\n",
        "b = [\"sudh\",\"kumar\",\"vyas\"]\n",
        "\n",
        "if 3 in b:\n",
        "    print(\"yes\")\n",
        "else:\n",
        "    print(\"No\")\n"
      ]
    },
    {
      "cell_type": "code",
      "execution_count": null,
      "id": "8fec796f",
      "metadata": {
        "id": "8fec796f",
        "outputId": "7c50999f-868c-480f-903d-9c7aee1bbdc8"
      },
      "outputs": [
        {
          "name": "stdout",
          "output_type": "stream",
          "text": [
            "sudh \n",
            "\n",
            "sudh sudh \n",
            "\n",
            "sudh sudh sudh \n",
            "\n",
            "sudh sudh sudh sudh \n",
            "\n"
          ]
        }
      ],
      "source": [
        "n = 4\n",
        "for i in range(4) :\n",
        "    for j in range(0,i+1) :\n",
        "        print(\"sudh\" , end =\" \")\n",
        "    print(\"\\n\")\n"
      ]
    },
    {
      "cell_type": "code",
      "execution_count": null,
      "id": "3d5e2090",
      "metadata": {
        "id": "3d5e2090",
        "outputId": "3d8f136f-da50-46f3-cc99-23a560a7bd6a"
      },
      "outputs": [
        {
          "name": "stdout",
          "output_type": "stream",
          "text": [
            "  sudh \n",
            " sudh sudh sudh \n",
            "sudh sudh sudh sudh sudh \n"
          ]
        }
      ],
      "source": [
        "n=3\n",
        "for i in range (n):\n",
        "    for j in range(i,n-1):\n",
        "        print(\"\" *len(\"sudh\"),end= \" \")\n",
        "    for j in range (i+1):\n",
        "        print(\"sudh\",end=\" \" )\n",
        "    for j in range(i):\n",
        "        print(\"sudh\",end= \" \")\n",
        "    print()\n"
      ]
    },
    {
      "cell_type": "code",
      "execution_count": null,
      "id": "2eef345e",
      "metadata": {
        "id": "2eef345e",
        "outputId": "a1601139-e8d9-4c73-b7b3-ae3eca46c3b4"
      },
      "outputs": [
        {
          "name": "stdout",
          "output_type": "stream",
          "text": [
            "3\n",
            "3\n",
            "3\n",
            "3\n"
          ]
        }
      ],
      "source": [
        "for i in t :\n",
        "    if type(i) == list or type (i) == tuple :\n",
        "        for j in i :\n",
        "            if j ==3 :\n",
        "                print(j)\n",
        "    if type(i) ==dict :\n",
        "            for k,v in i . items():\n",
        "                if k == 3 or v == 3:\n",
        "                    print(k)   \n",
        "                    print(v)\n"
      ]
    },
    {
      "cell_type": "code",
      "execution_count": null,
      "id": "414d91fa",
      "metadata": {
        "id": "414d91fa",
        "outputId": "22c5b5e6-2dbb-47d6-fad4-88cb18fe33ce"
      },
      "outputs": [
        {
          "name": "stdout",
          "output_type": "stream",
          "text": [
            "890\n"
          ]
        }
      ],
      "source": [
        "b = input()"
      ]
    },
    {
      "cell_type": "code",
      "execution_count": null,
      "id": "c2d2c091",
      "metadata": {
        "id": "c2d2c091"
      },
      "outputs": [],
      "source": [
        ""
      ]
    }
  ],
  "metadata": {
    "kernelspec": {
      "display_name": "Python 3 (ipykernel)",
      "language": "python",
      "name": "python3"
    },
    "language_info": {
      "codemirror_mode": {
        "name": "ipython",
        "version": 3
      },
      "file_extension": ".py",
      "mimetype": "text/x-python",
      "name": "python",
      "nbconvert_exporter": "python",
      "pygments_lexer": "ipython3",
      "version": "3.9.7"
    },
    "colab": {
      "name": "for loop practice  (1).ipynb",
      "provenance": []
    }
  },
  "nbformat": 4,
  "nbformat_minor": 5
}