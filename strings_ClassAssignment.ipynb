{
  "nbformat": 4,
  "nbformat_minor": 0,
  "metadata": {
    "colab": {
      "name": "strings_ClassAssignment.ipynb",
      "provenance": [],
      "collapsed_sections": []
    },
    "kernelspec": {
      "name": "python3",
      "display_name": "Python 3"
    },
    "language_info": {
      "name": "python"
    }
  },
  "cells": [
    {
      "cell_type": "code",
      "execution_count": 1,
      "metadata": {
        "id": "dKb1_81kBJS-"
      },
      "outputs": [],
      "source": [
        "s = \"this is My First Python programming class and i am learNING python string and its function\""
      ]
    },
    {
      "cell_type": "code",
      "source": [
        "# 1 . Try to extract data from index one to index 300 with a jump of 3 \n",
        "\n",
        "s[1:300:3]"
      ],
      "metadata": {
        "colab": {
          "base_uri": "https://localhost:8080/",
          "height": 36
        },
        "id": "cp-AovDaBkLD",
        "outputId": "cbdbc3b1-d80c-4c42-d0fc-7096a5783971"
      },
      "execution_count": 3,
      "outputs": [
        {
          "output_type": "execute_result",
          "data": {
            "text/plain": [
              "'h   r tnrrmglsnimeNGyosi dtfco'"
            ],
            "application/vnd.google.colaboratory.intrinsic+json": {
              "type": "string"
            }
          },
          "metadata": {},
          "execution_count": 3
        }
      ]
    },
    {
      "cell_type": "code",
      "source": [
        "# 2. Try to reverse a string without using reverse function \n",
        "\n",
        "s[::-1]"
      ],
      "metadata": {
        "colab": {
          "base_uri": "https://localhost:8080/",
          "height": 36
        },
        "id": "EEmSknWYCO8l",
        "outputId": "c701c903-0317-441a-96a1-0c89f1629646"
      },
      "execution_count": 9,
      "outputs": [
        {
          "output_type": "execute_result",
          "data": {
            "text/plain": [
              "'noitcnuf sti dna gnirts nohtyp GNINrael ma i dna ssalc gnimmargorp nohtyP tsriF yM si siht'"
            ],
            "application/vnd.google.colaboratory.intrinsic+json": {
              "type": "string"
            }
          },
          "metadata": {},
          "execution_count": 9
        }
      ]
    },
    {
      "cell_type": "code",
      "source": [
        "# 3. Try to split a string after conversion of entire string in uppercase \n",
        "\n",
        "upper = s.upper()\n",
        "upper.split()"
      ],
      "metadata": {
        "colab": {
          "base_uri": "https://localhost:8080/"
        },
        "id": "-sVD4UQQDgcR",
        "outputId": "862c9207-43b5-4ca3-cbfd-0692ccb1cdbe"
      },
      "execution_count": 11,
      "outputs": [
        {
          "output_type": "execute_result",
          "data": {
            "text/plain": [
              "['THIS',\n",
              " 'IS',\n",
              " 'MY',\n",
              " 'FIRST',\n",
              " 'PYTHON',\n",
              " 'PROGRAMMING',\n",
              " 'CLASS',\n",
              " 'AND',\n",
              " 'I',\n",
              " 'AM',\n",
              " 'LEARNING',\n",
              " 'PYTHON',\n",
              " 'STRING',\n",
              " 'AND',\n",
              " 'ITS',\n",
              " 'FUNCTION']"
            ]
          },
          "metadata": {},
          "execution_count": 11
        }
      ]
    },
    {
      "cell_type": "code",
      "source": [
        "# 4. try to convert the whole string into lower case \n",
        "\n",
        "lower = s.lower()\n",
        "lower"
      ],
      "metadata": {
        "colab": {
          "base_uri": "https://localhost:8080/",
          "height": 36
        },
        "id": "jgbu4ckRDkWo",
        "outputId": "ee7bbb97-4dc3-49d0-c19a-768cd862bd4c"
      },
      "execution_count": 13,
      "outputs": [
        {
          "output_type": "execute_result",
          "data": {
            "text/plain": [
              "'this is my first python programming class and i am learning python string and its function'"
            ],
            "application/vnd.google.colaboratory.intrinsic+json": {
              "type": "string"
            }
          },
          "metadata": {},
          "execution_count": 13
        }
      ]
    },
    {
      "cell_type": "code",
      "source": [
        "# 5. Try to capitalize the whole string \n",
        "\n",
        "caps = s.capitalize()\n",
        "print(caps)\n",
        "print(caps.title())"
      ],
      "metadata": {
        "colab": {
          "base_uri": "https://localhost:8080/"
        },
        "id": "a9ljBH2yUGAj",
        "outputId": "1467af23-4594-4902-dd0c-5710ace61bf3"
      },
      "execution_count": 16,
      "outputs": [
        {
          "output_type": "stream",
          "name": "stdout",
          "text": [
            "This is my first python programming class and i am learning python string and its function\n",
            "This Is My First Python Programming Class And I Am Learning Python String And Its Function\n"
          ]
        }
      ]
    },
    {
      "cell_type": "code",
      "source": [
        "# 6 . Write a diference between isalnum() and isalpha()\n",
        "\n",
        "# isalnum(): Returns a True if the string is alpha neumaric. Returns false for anything else. EX: if the string has white space, it will be false\n",
        "# isalpha():This method checks whether the string consists of alphabetic characters only."
      ],
      "metadata": {
        "colab": {
          "base_uri": "https://localhost:8080/",
          "height": 36
        },
        "id": "SM7dvZSOUc_s",
        "outputId": "ec26240b-270f-41ec-fb42-4869ae5e004b"
      },
      "execution_count": 17,
      "outputs": [
        {
          "output_type": "execute_result",
          "data": {
            "text/plain": [
              "''"
            ],
            "application/vnd.google.colaboratory.intrinsic+json": {
              "type": "string"
            }
          },
          "metadata": {},
          "execution_count": 17
        }
      ]
    },
    {
      "cell_type": "code",
      "source": [
        "# 7. Try to give an example of expand tab\n",
        "\n",
        "extab = \"this\\tis\\tan\\textab\\texample\"\n",
        "extab.expandtabs()"
      ],
      "metadata": {
        "colab": {
          "base_uri": "https://localhost:8080/",
          "height": 36
        },
        "id": "ateXBYoiVr8t",
        "outputId": "ba2bc077-a5fa-4406-8d23-f82aa68d27e7"
      },
      "execution_count": 19,
      "outputs": [
        {
          "output_type": "execute_result",
          "data": {
            "text/plain": [
              "'this    is      an      extab   example'"
            ],
            "application/vnd.google.colaboratory.intrinsic+json": {
              "type": "string"
            }
          },
          "metadata": {},
          "execution_count": 19
        }
      ]
    },
    {
      "cell_type": "code",
      "source": [
        "# 8. Give an example of strip, lstrip and rstrip \n",
        "\n",
        "strp = \"    strip example   \"\n",
        "lstrp = \"     lstrip example\"\n",
        "rstrp = \"rstrip example     \"\n",
        "\n",
        "print(strp.strip(),\"\\n\",lstrp.lstrip(),\"\\n\",rstrp.rstrip())"
      ],
      "metadata": {
        "colab": {
          "base_uri": "https://localhost:8080/"
        },
        "id": "wW1vERozYLpt",
        "outputId": "bd91e722-0d2e-4ae2-8159-84ae6132fbe5"
      },
      "execution_count": 20,
      "outputs": [
        {
          "output_type": "stream",
          "name": "stdout",
          "text": [
            "strip example \n",
            " lstrip example \n",
            " rstrip example\n"
          ]
        }
      ]
    },
    {
      "cell_type": "code",
      "source": [
        "# 9.  Replace a string charecter by another charector by taking your own example \n",
        "\n",
        "rep = \"Replace this string\" #replacing \"this\" with \"##\"\n",
        "\n",
        "rep.replace(\"this\",\"##\",1)"
      ],
      "metadata": {
        "colab": {
          "base_uri": "https://localhost:8080/",
          "height": 36
        },
        "id": "48thttoqZLkV",
        "outputId": "4f7ff7da-367d-4dfe-ff1f-909a84dec75a"
      },
      "execution_count": 32,
      "outputs": [
        {
          "output_type": "execute_result",
          "data": {
            "text/plain": [
              "'Replace ## string'"
            ],
            "application/vnd.google.colaboratory.intrinsic+json": {
              "type": "string"
            }
          },
          "metadata": {},
          "execution_count": 32
        }
      ]
    },
    {
      "cell_type": "code",
      "source": [
        "# 10. Try  to give a defination of string center function with and exmple \n",
        "\n",
        "# center(): fills a string or word with a specified character. The fill will depend on number you specify. The number is mandatory, the character is optional. By default the chracter will be \"\"\n",
        "# The fill character must be exactly one character long\n",
        "center = \" laughing \"\n",
        "center.center(20,\"a\")"
      ],
      "metadata": {
        "colab": {
          "base_uri": "https://localhost:8080/",
          "height": 36
        },
        "id": "BipzyMloZwqQ",
        "outputId": "307c70cd-049c-4a08-8b1f-1d094973b758"
      },
      "execution_count": 38,
      "outputs": [
        {
          "output_type": "execute_result",
          "data": {
            "text/plain": [
              "'aaaaa laughing aaaaa'"
            ],
            "application/vnd.google.colaboratory.intrinsic+json": {
              "type": "string"
            }
          },
          "metadata": {},
          "execution_count": 38
        }
      ]
    },
    {
      "cell_type": "markdown",
      "source": [
        "**11. Write your own definition of compiler and interpretor without copy paste form internet in your own language**\n",
        "\n",
        "A computer program or source code is written in high-level language. Computers don't understand high-level language. \n",
        "It must be converted to something that a comuter can understand. This is where we use a Complier or an Interpreter.\n",
        "Both essentially performs the same function i.e., conversion of high-level language to a computer level languge. \n",
        "The major difference are:\n",
        "\n",
        "Complier: Converts the entire program at once. usually take a large amount of time to analyze the source code. \n",
        "          However, the overall execution time is comparatively faster than interpreters. C, C++, Java use compilers.\n",
        "\n",
        "Interpreter: Converts one line at a time. nterpreters usually take less amount of time to analyze the source code. \n",
        "          However, the overall execution time is comparatively slower than compilers. Python uses interpreter.\n",
        "        "
      ],
      "metadata": {
        "id": "LsPdgSI0h_7p"
      }
    },
    {
      "cell_type": "markdown",
      "source": [
        "**12. Python is a interpreted of compiled language give a clear ans with your understanding**\n",
        "\n",
        "Python is an interpreter language. Meaning, in Python one line is converted at a time. \n",
        "This is 'one of the reasons' why I think we are able to execute all the lines till an error and able to identify which line has an error.\n"
      ],
      "metadata": {
        "id": "liCZe7NbiKEi"
      }
    },
    {
      "cell_type": "markdown",
      "source": [
        "**13 . Try to write a usecase of python with your understanding.**\n",
        "\n",
        "Python is a versatile language which can be used for many different types of operations. Ex: Machine learning, Analysis, Gaming, Forecasting etc.,\n",
        "\n",
        "I would be using Python for Machine Learning, Analysis and Data Science in general\n"
      ],
      "metadata": {
        "id": "BIcNMQW-ifMg"
      }
    },
    {
      "cell_type": "code",
      "source": [
        ""
      ],
      "metadata": {
        "id": "2NwAicRElsvQ"
      },
      "execution_count": null,
      "outputs": []
    }
  ]
}